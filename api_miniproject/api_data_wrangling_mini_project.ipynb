{
 "cells": [
  {
   "cell_type": "markdown",
   "metadata": {},
   "source": [
    "This exercise will require you to pull some data from the Quandl API. Quandl is currently the most widely used aggregator of financial market data."
   ]
  },
  {
   "cell_type": "markdown",
   "metadata": {},
   "source": [
    "As a first step, you will need to register a free account on the http://www.quandl.com website."
   ]
  },
  {
   "cell_type": "markdown",
   "metadata": {},
   "source": [
    "After you register, you will be provided with a unique API key, that you should store:"
   ]
  },
  {
   "cell_type": "code",
   "execution_count": 1,
   "metadata": {},
   "outputs": [],
   "source": [
    "# Store the API key as a string - according to PEP8, constants are always named in all upper case\n",
    "API_KEY = 'REDACTED'"
   ]
  },
  {
   "cell_type": "markdown",
   "metadata": {},
   "source": [
    "Quandl has a large number of data sources, but, unfortunately, most of them require a Premium subscription. Still, there are also a good number of free datasets."
   ]
  },
  {
   "cell_type": "markdown",
   "metadata": {},
   "source": [
    "For this mini project, we will focus on equities data from the Frankfurt Stock Exhange (FSE), which is available for free. We'll try and analyze the stock prices of a company called Carl Zeiss Meditec, which manufactures tools for eye examinations, as well as medical lasers for laser eye surgery: https://www.zeiss.com/meditec/int/home.html. The company is listed under the stock ticker AFX_X."
   ]
  },
  {
   "cell_type": "markdown",
   "metadata": {},
   "source": [
    "You can find the detailed Quandl API instructions here: https://docs.quandl.com/docs/time-series"
   ]
  },
  {
   "cell_type": "markdown",
   "metadata": {},
   "source": [
    "While there is a dedicated Python package for connecting to the Quandl API, we would prefer that you use the *requests* package, which can be easily downloaded using *pip* or *conda*. You can find the documentation for the package here: http://docs.python-requests.org/en/master/ "
   ]
  },
  {
   "cell_type": "markdown",
   "metadata": {},
   "source": [
    "Finally, apart from the *requests* package, you are encouraged to not use any third party Python packages, such as *pandas*, and instead focus on what's available in the Python Standard Library (the *collections* module might come in handy: https://pymotw.com/3/collections/ ).\n",
    "Also, since you won't have access to DataFrames, you are encouraged to us Python's native data structures - preferably dictionaries, though some questions can also be answered using lists.\n",
    "You can read more on these data structures here: https://docs.python.org/3/tutorial/datastructures.html"
   ]
  },
  {
   "cell_type": "markdown",
   "metadata": {},
   "source": [
    "Keep in mind that the JSON responses you will be getting from the API map almost one-to-one to Python's dictionaries. Unfortunately, they can be very nested, so make sure you read up on indexing dictionaries in the documentation provided above."
   ]
  },
  {
   "cell_type": "code",
   "execution_count": 2,
   "metadata": {},
   "outputs": [],
   "source": [
    "# First, import the relevant modules\n",
    "import requests\n",
    "import collections"
   ]
  },
  {
   "cell_type": "code",
   "execution_count": 3,
   "metadata": {},
   "outputs": [],
   "source": [
    "# Now, call the Quandl API and pull out a small sample of the data (only one day) to get a glimpse\n",
    "# into the JSON structure that will be returned\n",
    "url = 'https://www.quandl.com/api/v3/datasets/FSE/AFX_X?start_date=2019-07-23&end_date=2019-07-23?api_key=' + API_KEY\n",
    "r = requests.get(url)"
   ]
  },
  {
   "cell_type": "code",
   "execution_count": 4,
   "metadata": {
    "scrolled": false
   },
   "outputs": [
    {
     "data": {
      "text/plain": [
       "{'dataset': {'id': 10095370,\n",
       "  'dataset_code': 'AFX_X',\n",
       "  'database_code': 'FSE',\n",
       "  'name': 'Carl Zeiss Meditec (AFX_X)',\n",
       "  'description': 'Stock Prices for Carl Zeiss Meditec (2019-07-10) from the Frankfurt Stock Exchange.<br><br>Trading System: Xetra<br><br>ISIN: DE0005313704',\n",
       "  'refreshed_at': '2019-07-24T22:18:57.969Z',\n",
       "  'newest_available_date': '2019-07-24',\n",
       "  'oldest_available_date': '2000-06-07',\n",
       "  'column_names': ['Date',\n",
       "   'Open',\n",
       "   'High',\n",
       "   'Low',\n",
       "   'Close',\n",
       "   'Change',\n",
       "   'Traded Volume',\n",
       "   'Turnover',\n",
       "   'Last Price of the Day',\n",
       "   'Daily Traded Units',\n",
       "   'Daily Turnover'],\n",
       "  'frequency': 'daily',\n",
       "  'type': 'Time Series',\n",
       "  'premium': False,\n",
       "  'limit': None,\n",
       "  'transform': None,\n",
       "  'column_index': None,\n",
       "  'start_date': '2019-07-23',\n",
       "  'end_date': '2019-07-23',\n",
       "  'data': [['2019-07-23',\n",
       "    97.2,\n",
       "    98.2,\n",
       "    97.05,\n",
       "    98.1,\n",
       "    None,\n",
       "    91724.0,\n",
       "    8971253.0,\n",
       "    None,\n",
       "    None,\n",
       "    None]],\n",
       "  'collapse': None,\n",
       "  'order': None,\n",
       "  'database_id': 6129}}"
      ]
     },
     "execution_count": 4,
     "metadata": {},
     "output_type": "execute_result"
    }
   ],
   "source": [
    "# Inspect the JSON structure of the object you created, and take note of how nested it is,\n",
    "# as well as the overall structure\n",
    "r.json()"
   ]
  },
  {
   "cell_type": "markdown",
   "metadata": {},
   "source": [
    "These are your tasks for this mini project:\n",
    "\n",
    "1. Collect data from the Franfurt Stock Exchange, for the ticker AFX_X, for the whole year 2017 (keep in mind that the date format is YYYY-MM-DD).\n",
    "2. Convert the returned JSON object into a Python dictionary.\n",
    "3. Calculate what the highest and lowest opening prices were for the stock in this period.\n",
    "4. What was the largest change in any one day (based on High and Low price)?\n",
    "5. What was the largest change between any two days (based on Closing Price)?\n",
    "6. What was the average daily trading volume during this year?\n",
    "7. (Optional) What was the median trading volume during this year. (Note: you may need to implement your own function for calculating the median.)"
   ]
  },
  {
   "cell_type": "code",
   "execution_count": 5,
   "metadata": {},
   "outputs": [],
   "source": [
    "url = 'https://www.quandl.com/api/v3/datasets/FSE/AFX_X?start_date=2017-01-01&end_date=2017-12-31?api_key=' + API_KEY\n",
    "r = requests.get(url)"
   ]
  },
  {
   "cell_type": "code",
   "execution_count": 6,
   "metadata": {},
   "outputs": [
    {
     "data": {
      "text/plain": [
       "['Date',\n",
       " 'Open',\n",
       " 'High',\n",
       " 'Low',\n",
       " 'Close',\n",
       " 'Change',\n",
       " 'Traded Volume',\n",
       " 'Turnover',\n",
       " 'Last Price of the Day',\n",
       " 'Daily Traded Units',\n",
       " 'Daily Turnover']"
      ]
     },
     "execution_count": 6,
     "metadata": {},
     "output_type": "execute_result"
    }
   ],
   "source": [
    "afx = r.json()\n",
    "afx['dataset']['column_names']"
   ]
  },
  {
   "cell_type": "code",
   "execution_count": 7,
   "metadata": {},
   "outputs": [],
   "source": [
    "data = afx['dataset']['data']\n",
    "data_dict = {}\n",
    "\n",
    "for d in data:\n",
    "    day = d[0]\n",
    "    \n",
    "    day_dict = {}\n",
    "    day_dict['Open'] = d[1]\n",
    "    day_dict['High'] = d[2]\n",
    "    day_dict['Low'] = d[3]\n",
    "    day_dict['Close'] = d[4]\n",
    "    day_dict['Change'] = d[5]\n",
    "    day_dict['Traded Volume'] = d[6]\n",
    "    day_dict['Turnover'] = d[7]\n",
    "    day_dict['Last Price of the Day'] = d[8]\n",
    "    day_dict['Daily Traded Units'] = d[9]\n",
    "    day_dict['Daily Turnover'] = d[10]\n",
    "    \n",
    "    data_dict[day] = day_dict"
   ]
  },
  {
   "cell_type": "code",
   "execution_count": 8,
   "metadata": {
    "scrolled": false
   },
   "outputs": [
    {
     "name": "stdout",
     "output_type": "stream",
     "text": [
      "The highest opening price for 2017 was $53.11.\n",
      "The lowest opening price for 2017 was $34.00.\n"
     ]
    }
   ],
   "source": [
    "highest_opening_price = 0.0\n",
    "lowest_opening_price = float('inf')\n",
    "\n",
    "for day, data in data_dict.items():\n",
    "    if data['Open'] is None:\n",
    "        pass\n",
    "    elif data['Open'] > highest_opening_price:\n",
    "        highest_opening_price = data['Open']\n",
    "    elif data['Open'] < lowest_opening_price:\n",
    "        lowest_opening_price = data['Open']\n",
    "        \n",
    "print(f'The highest opening price for 2017 was ${highest_opening_price}.')\n",
    "print(f'The lowest opening price for 2017 was ${lowest_opening_price:.2f}.')"
   ]
  },
  {
   "cell_type": "code",
   "execution_count": 9,
   "metadata": {},
   "outputs": [
    {
     "name": "stdout",
     "output_type": "stream",
     "text": [
      "The largest change in any one day was $2.81.\n"
     ]
    }
   ],
   "source": [
    "largest_change = 0.0\n",
    "\n",
    "for day, data in data_dict.items():\n",
    "    change = data['High'] - data['Low']\n",
    "    \n",
    "    if change > largest_change:\n",
    "        largest_change = change\n",
    "        \n",
    "print(f'The largest change in any one day was ${largest_change:.2f}.')"
   ]
  },
  {
   "cell_type": "code",
   "execution_count": 10,
   "metadata": {},
   "outputs": [
    {
     "name": "stdout",
     "output_type": "stream",
     "text": [
      "The largest change between any two days was $2.56.\n"
     ]
    }
   ],
   "source": [
    "largest_change = 0.0\n",
    "\n",
    "for day, data in data_dict.items():\n",
    "    if day == '2017-12-29':\n",
    "        prev_day_closing = data['Close']\n",
    "        \n",
    "    change = abs(data['Close'] - prev_day_closing)\n",
    "    if change > largest_change:\n",
    "        largest_change = change\n",
    "        \n",
    "    prev_day_closing = data['Close']\n",
    "    \n",
    "print(f'The largest change between any two days was ${largest_change:.2f}.')"
   ]
  },
  {
   "cell_type": "code",
   "execution_count": 11,
   "metadata": {},
   "outputs": [
    {
     "name": "stdout",
     "output_type": "stream",
     "text": [
      "The average daily trading volume for 2017 was $89124.34.\n"
     ]
    }
   ],
   "source": [
    "total_trading_volume = 0.0\n",
    "\n",
    "for day, data in data_dict.items():\n",
    "    total_trading_volume += data['Traded Volume']\n",
    "    \n",
    "average_trading_volume = total_trading_volume / len(data_dict)\n",
    "print(f'The average daily trading volume for 2017 was ${average_trading_volume:.2f}.')"
   ]
  },
  {
   "cell_type": "code",
   "execution_count": 12,
   "metadata": {},
   "outputs": [
    {
     "name": "stdout",
     "output_type": "stream",
     "text": [
      "The median trading volume for 2017 was $76286.00.\n"
     ]
    }
   ],
   "source": [
    "def median(data: list):\n",
    "    sorted_data = sorted(data)\n",
    "    length = len(sorted_data)\n",
    "    mid = length / 2\n",
    "\n",
    "    # If even, get two middle values\n",
    "    if length % 2 == 0:\n",
    "        # Subtract 1 from half of length for first middle value since 0-based indexing\n",
    "        median = (sorted_data[int(mid) - 1] + sorted_data[int(mid)]) / 2\n",
    "    else:\n",
    "        # Use int instead of round for floor value since 0-based indexing\n",
    "        median = sorted_data[int(mid)]\n",
    "        \n",
    "    return median\n",
    "\n",
    "\n",
    "trading_volumes = []\n",
    "\n",
    "for day, data in data_dict.items():\n",
    "    trading_volumes.append(data['Traded Volume'])\n",
    "    \n",
    "print(f'The median trading volume for 2017 was ${median(trading_volumes):.2f}.')"
   ]
  }
 ],
 "metadata": {
  "kernelspec": {
   "display_name": "Python 3",
   "language": "python",
   "name": "python3"
  },
  "language_info": {
   "codemirror_mode": {
    "name": "ipython",
    "version": 3
   },
   "file_extension": ".py",
   "mimetype": "text/x-python",
   "name": "python",
   "nbconvert_exporter": "python",
   "pygments_lexer": "ipython3",
   "version": "3.7.3"
  }
 },
 "nbformat": 4,
 "nbformat_minor": 2
}
